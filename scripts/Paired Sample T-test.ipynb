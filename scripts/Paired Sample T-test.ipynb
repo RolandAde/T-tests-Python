{
 "cells": [
  {
   "cell_type": "markdown",
   "id": "ec5454da",
   "metadata": {},
   "source": [
    "## Here is an outline of the steps we'll cover:\n",
    "\n",
    "* Importing the necessary libraries\n",
    "* Loading the dataset\n",
    "* Data preprocessing (if needed)\n",
    "* Formulating the null and alternative hypotheses\n",
    "* Choosing the appropriate t-test based on the study design\n",
    "* Conducting the t-test\n",
    "* Interpreting the results and making conclusions"
   ]
  },
  {
   "cell_type": "markdown",
   "id": "f8b9ab63",
   "metadata": {},
   "source": [
    "Let's perform a paired sample t-test using the dataset \"Athlete\" with columns \"pre_training_weight\" and \"post_training_weight\"."
   ]
  },
  {
   "cell_type": "markdown",
   "id": "3b56ddff",
   "metadata": {},
   "source": [
    "### Here's the code with explanations for each analytical step"
   ]
  },
  {
   "cell_type": "markdown",
   "id": "e6ce7683",
   "metadata": {},
   "source": [
    "### Step 1: Import the necessary libraries\n",
    "* We'll import the required libraries, including numpy, pandas, and scipy.stats."
   ]
  },
  {
   "cell_type": "code",
   "execution_count": 1,
   "id": "6721843a",
   "metadata": {},
   "outputs": [],
   "source": [
    "import numpy as np\n",
    "import pandas as pd\n",
    "from scipy.stats import ttest_rel\n",
    "import os"
   ]
  },
  {
   "cell_type": "code",
   "execution_count": 2,
   "id": "bcda289d",
   "metadata": {},
   "outputs": [],
   "source": [
    "# Changing working directory\n",
    "os.chdir(\"C:\\\\Users\\\\HP\\\\Desktop\\\\JITSOLUTIONS\\\\Datasets0\")"
   ]
  },
  {
   "cell_type": "code",
   "execution_count": 5,
   "id": "bac7f434",
   "metadata": {},
   "outputs": [
    {
     "data": {
      "text/plain": [
       "'C:\\\\Users\\\\HP\\\\Desktop\\\\JITSOLUTIONS\\\\Datasets0'"
      ]
     },
     "execution_count": 5,
     "metadata": {},
     "output_type": "execute_result"
    }
   ],
   "source": [
    "pwd"
   ]
  },
  {
   "cell_type": "markdown",
   "id": "96977e8e",
   "metadata": {},
   "source": [
    "________________"
   ]
  },
  {
   "cell_type": "markdown",
   "id": "f32052f1",
   "metadata": {},
   "source": [
    "### Step 2: Load the dataset\n",
    "* Assuming your dataset is in a CSV file format, you can load it into a Pandas DataFrame using the read_csv() function.\n",
    "* Assuming your dataset is in a xlsx file format, you can load it into a Pandas DataFrame using the read_excel() function."
   ]
  },
  {
   "cell_type": "code",
   "execution_count": 6,
   "id": "068e65cb",
   "metadata": {},
   "outputs": [],
   "source": [
    "# Importing dataset\n",
    "df = pd.read_csv(\"Athlete.csv\")"
   ]
  },
  {
   "cell_type": "code",
   "execution_count": 7,
   "id": "7a508ada",
   "metadata": {},
   "outputs": [
    {
     "data": {
      "text/html": [
       "<div>\n",
       "<style scoped>\n",
       "    .dataframe tbody tr th:only-of-type {\n",
       "        vertical-align: middle;\n",
       "    }\n",
       "\n",
       "    .dataframe tbody tr th {\n",
       "        vertical-align: top;\n",
       "    }\n",
       "\n",
       "    .dataframe thead th {\n",
       "        text-align: right;\n",
       "    }\n",
       "</style>\n",
       "<table border=\"1\" class=\"dataframe\">\n",
       "  <thead>\n",
       "    <tr style=\"text-align: right;\">\n",
       "      <th></th>\n",
       "      <th>pre_training_weight</th>\n",
       "      <th>post_training_weight</th>\n",
       "    </tr>\n",
       "  </thead>\n",
       "  <tbody>\n",
       "    <tr>\n",
       "      <th>0</th>\n",
       "      <td>104.985134</td>\n",
       "      <td>110.413039</td>\n",
       "    </tr>\n",
       "    <tr>\n",
       "      <th>1</th>\n",
       "      <td>106.763985</td>\n",
       "      <td>92.067213</td>\n",
       "    </tr>\n",
       "    <tr>\n",
       "      <th>2</th>\n",
       "      <td>98.451416</td>\n",
       "      <td>79.316233</td>\n",
       "    </tr>\n",
       "    <tr>\n",
       "      <th>3</th>\n",
       "      <td>102.664542</td>\n",
       "      <td>98.730797</td>\n",
       "    </tr>\n",
       "    <tr>\n",
       "      <th>4</th>\n",
       "      <td>78.854023</td>\n",
       "      <td>102.324667</td>\n",
       "    </tr>\n",
       "  </tbody>\n",
       "</table>\n",
       "</div>"
      ],
      "text/plain": [
       "   pre_training_weight  post_training_weight\n",
       "0           104.985134            110.413039\n",
       "1           106.763985             92.067213\n",
       "2            98.451416             79.316233\n",
       "3           102.664542             98.730797\n",
       "4            78.854023            102.324667"
      ]
     },
     "execution_count": 7,
     "metadata": {},
     "output_type": "execute_result"
    }
   ],
   "source": [
    "df.head()"
   ]
  },
  {
   "cell_type": "code",
   "execution_count": 15,
   "id": "5cb626dc",
   "metadata": {},
   "outputs": [
    {
     "data": {
      "text/html": [
       "<div>\n",
       "<style scoped>\n",
       "    .dataframe tbody tr th:only-of-type {\n",
       "        vertical-align: middle;\n",
       "    }\n",
       "\n",
       "    .dataframe tbody tr th {\n",
       "        vertical-align: top;\n",
       "    }\n",
       "\n",
       "    .dataframe thead th {\n",
       "        text-align: right;\n",
       "    }\n",
       "</style>\n",
       "<table border=\"1\" class=\"dataframe\">\n",
       "  <thead>\n",
       "    <tr style=\"text-align: right;\">\n",
       "      <th></th>\n",
       "      <th>count</th>\n",
       "      <th>mean</th>\n",
       "      <th>std</th>\n",
       "      <th>min</th>\n",
       "      <th>25%</th>\n",
       "      <th>50%</th>\n",
       "      <th>75%</th>\n",
       "      <th>max</th>\n",
       "    </tr>\n",
       "  </thead>\n",
       "  <tbody>\n",
       "    <tr>\n",
       "      <th>pre_training_weight</th>\n",
       "      <td>150.0</td>\n",
       "      <td>100.963715</td>\n",
       "      <td>10.835621</td>\n",
       "      <td>69.823667</td>\n",
       "      <td>93.591390</td>\n",
       "      <td>101.094173</td>\n",
       "      <td>108.272078</td>\n",
       "      <td>128.998221</td>\n",
       "    </tr>\n",
       "    <tr>\n",
       "      <th>post_training_weight</th>\n",
       "      <td>150.0</td>\n",
       "      <td>99.545093</td>\n",
       "      <td>9.798128</td>\n",
       "      <td>71.600630</td>\n",
       "      <td>91.739313</td>\n",
       "      <td>99.562758</td>\n",
       "      <td>106.125055</td>\n",
       "      <td>124.371665</td>\n",
       "    </tr>\n",
       "  </tbody>\n",
       "</table>\n",
       "</div>"
      ],
      "text/plain": [
       "                      count        mean        std        min        25%  \\\n",
       "pre_training_weight   150.0  100.963715  10.835621  69.823667  93.591390   \n",
       "post_training_weight  150.0   99.545093   9.798128  71.600630  91.739313   \n",
       "\n",
       "                             50%         75%         max  \n",
       "pre_training_weight   101.094173  108.272078  128.998221  \n",
       "post_training_weight   99.562758  106.125055  124.371665  "
      ]
     },
     "execution_count": 15,
     "metadata": {},
     "output_type": "execute_result"
    }
   ],
   "source": [
    "df.describe().transpose()"
   ]
  },
  {
   "cell_type": "markdown",
   "id": "deac8551",
   "metadata": {},
   "source": [
    "### Step 3: Formulating the null and alternative hypotheses\n",
    "* Define the null hypothesis (H0) and alternative hypothesis (H1) based on your research question.\n",
    "* These hypotheses should be specific to your analysis."
   ]
  },
  {
   "cell_type": "markdown",
   "id": "b3ea3c40",
   "metadata": {},
   "source": [
    "In a paired-sample t-test, the null hypothesis (H0) states that the pre-training-weight and post-training-weight are equal. \n",
    "\n",
    "The alternative hypothesis (H1) states that the pre-training-weight and post-training-weight are  not equal. \n",
    "\n"
   ]
  },
  {
   "cell_type": "code",
   "execution_count": 8,
   "id": "808b12e2",
   "metadata": {},
   "outputs": [],
   "source": [
    "# Example hypotheses\n",
    "\n",
    "# H0: The pre-training-weight and post-training-weight are equal.\n",
    "# H1: The pre-training-weight and post-training-weight are not equal."
   ]
  },
  {
   "cell_type": "markdown",
   "id": "e8af7e48",
   "metadata": {},
   "source": [
    "#### Extract the columns:\n",
    "\n",
    "* Assign the \"pre_training_weight\" column to the variable pre_training_weight.\n",
    "* Assign the \"post_training_weight\" column to the variable post_training_weight."
   ]
  },
  {
   "cell_type": "code",
   "execution_count": 10,
   "id": "64047821",
   "metadata": {},
   "outputs": [],
   "source": [
    "# Extract the columns for the paired samples\n",
    "pre_training_weight = df['pre_training_weight']\n",
    "post_training_weight = df['post_training_weight']"
   ]
  },
  {
   "cell_type": "markdown",
   "id": "df17b692",
   "metadata": {},
   "source": [
    "### Step 4: Conduct the paired-sample t-test\n",
    "* Use the ttest_rel function from the scipy.stats module to perform the paired-sample t-test. \n",
    "* Pass the pre_training_weight and post_training_weight variables as arguments."
   ]
  },
  {
   "cell_type": "code",
   "execution_count": 11,
   "id": "7bdb22fe",
   "metadata": {},
   "outputs": [],
   "source": [
    "# Perform the paired sample t-test\n",
    "t_statistic, p_value = ttest_rel(pre_training_weight, post_training_weight)"
   ]
  },
  {
   "cell_type": "code",
   "execution_count": 12,
   "id": "48c80115",
   "metadata": {},
   "outputs": [
    {
     "name": "stdout",
     "output_type": "stream",
     "text": [
      "t_statistic: 1.27719047068282\n",
      "p_value: 0.20352164007759732\n"
     ]
    }
   ],
   "source": [
    "print(f\"t_statistic: {t_statistic}\")\n",
    "print(f\"p_value: {p_value}\")"
   ]
  },
  {
   "cell_type": "markdown",
   "id": "1780bb24",
   "metadata": {},
   "source": [
    "### Step 5: Interpret the results and make conclusions\n",
    "* Compare the obtained p-value with a predetermined significance level (α) to determine if the results are statistically significant. \n",
    "* You can print the results and provide a conclusion based on the outcome of the test."
   ]
  },
  {
   "cell_type": "code",
   "execution_count": 14,
   "id": "118de5c6",
   "metadata": {},
   "outputs": [
    {
     "name": "stdout",
     "output_type": "stream",
     "text": [
      "Fail to reject the null hypothesis. The pre-training-weight and post-training-weight are equal.\n"
     ]
    }
   ],
   "source": [
    "alpha = 0.05\n",
    "\n",
    "if p_value < alpha:\n",
    "    print(\"Reject the null hypothesis. The pre-training-weight and post-training-weight are not equal.\")\n",
    "else:\n",
    "    print(\"Fail to reject the null hypothesis. The pre-training-weight and post-training-weight are equal.\")\n"
   ]
  },
  {
   "cell_type": "code",
   "execution_count": null,
   "id": "2a252253",
   "metadata": {},
   "outputs": [],
   "source": []
  }
 ],
 "metadata": {
  "kernelspec": {
   "display_name": "Python 3 (ipykernel)",
   "language": "python",
   "name": "python3"
  },
  "language_info": {
   "codemirror_mode": {
    "name": "ipython",
    "version": 3
   },
   "file_extension": ".py",
   "mimetype": "text/x-python",
   "name": "python",
   "nbconvert_exporter": "python",
   "pygments_lexer": "ipython3",
   "version": "3.11.7"
  }
 },
 "nbformat": 4,
 "nbformat_minor": 5
}
