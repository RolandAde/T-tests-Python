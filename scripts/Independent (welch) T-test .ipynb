{
 "cells": [
  {
   "cell_type": "markdown",
   "id": "3127a9e0",
   "metadata": {},
   "source": [
    "# Welch Test\n",
    "## Independent samples t-test that assumes unequal variances)"
   ]
  },
  {
   "cell_type": "markdown",
   "id": "f6a51add",
   "metadata": {},
   "source": [
    "### Here's a brief note on Welch's t-test:\n",
    "\n",
    "Welch's t-test, also known as the unequal variances t-test, is a statistical test used to compare the means of two independent groups when the variances of the groups are not assumed to be equal. It is an alternative to the independent t-test with equal variances assumption (pooled t-test).\n",
    "\n",
    "### Key points about Welch's t-test:\n",
    "\n",
    "**Unequal Variances:** Welch's t-test is specifically designed for situations where the variances of the two groups being compared are different.\n",
    "\n",
    "**Degrees of Freedom:** Welch's t-test uses a modified formula for calculating the degrees of freedom, which takes into account the unequal variances of the groups.\n",
    "\n",
    "**Test Statistic:** Welch's t-test calculates a t-statistic, which measures the difference between the group means relative to the variability within each group.\n",
    "\n",
    "**Assumptions:** Welch's t-test does not assume equal variances or equal sample sizes between the groups. However, it still assumes that the data within each group is approximately normally distributed.\n",
    "\n",
    "**Interpretation:** Similar to other t-tests, Welch's t-test produces a p-value that indicates the statistical significance of the difference between the means of the two groups. If the p-value is below a predetermined significance level (e.g., 0.05), it suggests that there is a significant difference between the group means.\n",
    "\n",
    "**When to Use:** Welch's t-test is recommended when the assumption of equal variances is violated or unknown, or when dealing with groups of different sizes.\n",
    "\n",
    "Overall, Welch's t-test provides a reliable method for comparing the means of two independent groups when the assumption of equal variances cannot be met. It allows for more robust and accurate statistical inference, particularly in situations where the variances of the groups differ substantially."
   ]
  },
  {
   "cell_type": "markdown",
   "id": "e035bcc9",
   "metadata": {},
   "source": [
    "## Here is an outline of the steps we'll cover:\n",
    "\n",
    "* Importing the necessary libraries\n",
    "* Loading the dataset\n",
    "* Data preprocessing (if needed)\n",
    "* Formulating the null and alternative hypotheses\n",
    "* Choosing the appropriate t-test based on the study design\n",
    "* Conducting the t-test\n",
    "* Interpreting the results and making conclusions"
   ]
  },
  {
   "cell_type": "markdown",
   "id": "fb581ff6",
   "metadata": {},
   "source": [
    "Let's perform a welch-test using the dataset \"bloodg\"."
   ]
  },
  {
   "cell_type": "markdown",
   "id": "00ff7e41",
   "metadata": {},
   "source": [
    "### Here's the code with explanations for each analytical step"
   ]
  },
  {
   "cell_type": "markdown",
   "id": "7cb2fc15",
   "metadata": {},
   "source": [
    "### Step 1: Import the necessary libraries\n",
    "* We'll import the required libraries, including numpy, pandas, and scipy.stats."
   ]
  },
  {
   "cell_type": "code",
   "execution_count": 3,
   "id": "ccb730e3",
   "metadata": {},
   "outputs": [],
   "source": [
    "import numpy as np\n",
    "import pandas as pd\n",
    "from scipy.stats import ttest_ind\n",
    "import os"
   ]
  },
  {
   "cell_type": "code",
   "execution_count": 4,
   "id": "22b1750a",
   "metadata": {},
   "outputs": [],
   "source": [
    "# Changing working directory\n",
    "os.chdir(\"C:\\\\Users\\\\HP\\\\Desktop\\\\JITSOLUTIONS\\\\Datasets0\")"
   ]
  },
  {
   "cell_type": "code",
   "execution_count": 5,
   "id": "3b62f139",
   "metadata": {},
   "outputs": [
    {
     "data": {
      "text/plain": [
       "'C:\\\\Users\\\\HP\\\\Desktop\\\\JITSOLUTIONS\\\\Datasets0'"
      ]
     },
     "execution_count": 5,
     "metadata": {},
     "output_type": "execute_result"
    }
   ],
   "source": [
    "pwd"
   ]
  },
  {
   "cell_type": "markdown",
   "id": "4903cc41",
   "metadata": {},
   "source": [
    "________________"
   ]
  },
  {
   "cell_type": "markdown",
   "id": "e8dc23aa",
   "metadata": {},
   "source": [
    "### Step 2: Load the dataset\n",
    "* Assuming your dataset is in a CSV file format, you can load it into a Pandas DataFrame using the read_csv() function.\n",
    "* Assuming your dataset is in a xlsx file format, you can load it into a Pandas DataFrame using the read_excel() function."
   ]
  },
  {
   "cell_type": "code",
   "execution_count": 32,
   "id": "87224201",
   "metadata": {},
   "outputs": [],
   "source": [
    "# Importing dataset\n",
    "df = pd.read_csv(\"bloodg.csv\")"
   ]
  },
  {
   "cell_type": "code",
   "execution_count": 33,
   "id": "50a8e77c",
   "metadata": {},
   "outputs": [
    {
     "data": {
      "text/html": [
       "<div>\n",
       "<style scoped>\n",
       "    .dataframe tbody tr th:only-of-type {\n",
       "        vertical-align: middle;\n",
       "    }\n",
       "\n",
       "    .dataframe tbody tr th {\n",
       "        vertical-align: top;\n",
       "    }\n",
       "\n",
       "    .dataframe thead th {\n",
       "        text-align: right;\n",
       "    }\n",
       "</style>\n",
       "<table border=\"1\" class=\"dataframe\">\n",
       "  <thead>\n",
       "    <tr style=\"text-align: right;\">\n",
       "      <th></th>\n",
       "      <th>group</th>\n",
       "      <th>blood_pressure</th>\n",
       "    </tr>\n",
       "  </thead>\n",
       "  <tbody>\n",
       "    <tr>\n",
       "      <th>0</th>\n",
       "      <td>1</td>\n",
       "      <td>94.949597</td>\n",
       "    </tr>\n",
       "    <tr>\n",
       "      <th>1</th>\n",
       "      <td>1</td>\n",
       "      <td>90.409626</td>\n",
       "    </tr>\n",
       "    <tr>\n",
       "      <th>2</th>\n",
       "      <td>1</td>\n",
       "      <td>95.462942</td>\n",
       "    </tr>\n",
       "    <tr>\n",
       "      <th>3</th>\n",
       "      <td>1</td>\n",
       "      <td>95.711593</td>\n",
       "    </tr>\n",
       "    <tr>\n",
       "      <th>4</th>\n",
       "      <td>1</td>\n",
       "      <td>105.650325</td>\n",
       "    </tr>\n",
       "  </tbody>\n",
       "</table>\n",
       "</div>"
      ],
      "text/plain": [
       "   group  blood_pressure\n",
       "0      1       94.949597\n",
       "1      1       90.409626\n",
       "2      1       95.462942\n",
       "3      1       95.711593\n",
       "4      1      105.650325"
      ]
     },
     "execution_count": 33,
     "metadata": {},
     "output_type": "execute_result"
    }
   ],
   "source": [
    "df.head()"
   ]
  },
  {
   "cell_type": "markdown",
   "id": "b5e400e4",
   "metadata": {},
   "source": [
    "### Step 3: Formulating the null and alternative hypotheses\n",
    "Define the null hypothesis (H0) and alternative hypothesis (H1) based on your research question. These hypotheses should be specific to your analysis."
   ]
  },
  {
   "cell_type": "code",
   "execution_count": 8,
   "id": "6818a985",
   "metadata": {},
   "outputs": [],
   "source": [
    "# Example hypotheses\n",
    "# H0: There is no significant difference between Group 1 and Group 2.\n",
    "# H1: The is significant difference between Group 1 and Group 2."
   ]
  },
  {
   "cell_type": "code",
   "execution_count": 20,
   "id": "ff7de475",
   "metadata": {},
   "outputs": [],
   "source": [
    "# Extract the columns for the paired samples\n",
    "group_1 = df[df['group'] == 1]['blood_pressure']\n",
    "group_2 = df[df['group'] == 2]['blood_pressure']"
   ]
  },
  {
   "cell_type": "code",
   "execution_count": 35,
   "id": "e4e09529",
   "metadata": {},
   "outputs": [],
   "source": [
    "df1=pd.DataFrame(group_1)"
   ]
  },
  {
   "cell_type": "code",
   "execution_count": 36,
   "id": "78c38e1f",
   "metadata": {},
   "outputs": [],
   "source": [
    "df2=pd.DataFrame(group_2)"
   ]
  },
  {
   "cell_type": "code",
   "execution_count": 40,
   "id": "3d045130",
   "metadata": {},
   "outputs": [
    {
     "data": {
      "text/html": [
       "<div>\n",
       "<style scoped>\n",
       "    .dataframe tbody tr th:only-of-type {\n",
       "        vertical-align: middle;\n",
       "    }\n",
       "\n",
       "    .dataframe tbody tr th {\n",
       "        vertical-align: top;\n",
       "    }\n",
       "\n",
       "    .dataframe thead th {\n",
       "        text-align: right;\n",
       "    }\n",
       "</style>\n",
       "<table border=\"1\" class=\"dataframe\">\n",
       "  <thead>\n",
       "    <tr style=\"text-align: right;\">\n",
       "      <th></th>\n",
       "      <th>blood_pressure</th>\n",
       "    </tr>\n",
       "  </thead>\n",
       "  <tbody>\n",
       "    <tr>\n",
       "      <th>0</th>\n",
       "      <td>94.949597</td>\n",
       "    </tr>\n",
       "    <tr>\n",
       "      <th>1</th>\n",
       "      <td>90.409626</td>\n",
       "    </tr>\n",
       "    <tr>\n",
       "      <th>2</th>\n",
       "      <td>95.462942</td>\n",
       "    </tr>\n",
       "    <tr>\n",
       "      <th>3</th>\n",
       "      <td>95.711593</td>\n",
       "    </tr>\n",
       "    <tr>\n",
       "      <th>4</th>\n",
       "      <td>105.650325</td>\n",
       "    </tr>\n",
       "  </tbody>\n",
       "</table>\n",
       "</div>"
      ],
      "text/plain": [
       "   blood_pressure\n",
       "0       94.949597\n",
       "1       90.409626\n",
       "2       95.462942\n",
       "3       95.711593\n",
       "4      105.650325"
      ]
     },
     "execution_count": 40,
     "metadata": {},
     "output_type": "execute_result"
    }
   ],
   "source": [
    "df1.head()"
   ]
  },
  {
   "cell_type": "code",
   "execution_count": 52,
   "id": "c68c4fa2",
   "metadata": {},
   "outputs": [
    {
     "data": {
      "text/html": [
       "<div>\n",
       "<style scoped>\n",
       "    .dataframe tbody tr th:only-of-type {\n",
       "        vertical-align: middle;\n",
       "    }\n",
       "\n",
       "    .dataframe tbody tr th {\n",
       "        vertical-align: top;\n",
       "    }\n",
       "\n",
       "    .dataframe thead th {\n",
       "        text-align: right;\n",
       "    }\n",
       "</style>\n",
       "<table border=\"1\" class=\"dataframe\">\n",
       "  <thead>\n",
       "    <tr style=\"text-align: right;\">\n",
       "      <th></th>\n",
       "      <th>count</th>\n",
       "      <th>mean</th>\n",
       "      <th>std</th>\n",
       "      <th>min</th>\n",
       "      <th>25%</th>\n",
       "      <th>50%</th>\n",
       "      <th>75%</th>\n",
       "      <th>max</th>\n",
       "    </tr>\n",
       "  </thead>\n",
       "  <tbody>\n",
       "    <tr>\n",
       "      <th>blood_pressure</th>\n",
       "      <td>200.0</td>\n",
       "      <td>100.256984</td>\n",
       "      <td>9.602504</td>\n",
       "      <td>77.571338</td>\n",
       "      <td>94.124365</td>\n",
       "      <td>100.17083</td>\n",
       "      <td>106.50145</td>\n",
       "      <td>140.434395</td>\n",
       "    </tr>\n",
       "  </tbody>\n",
       "</table>\n",
       "</div>"
      ],
      "text/plain": [
       "                count        mean       std        min        25%        50%  \\\n",
       "blood_pressure  200.0  100.256984  9.602504  77.571338  94.124365  100.17083   \n",
       "\n",
       "                      75%         max  \n",
       "blood_pressure  106.50145  140.434395  "
      ]
     },
     "execution_count": 52,
     "metadata": {},
     "output_type": "execute_result"
    }
   ],
   "source": [
    "df1.describe().transpose()"
   ]
  },
  {
   "cell_type": "code",
   "execution_count": 41,
   "id": "bede8fc0",
   "metadata": {},
   "outputs": [
    {
     "data": {
      "text/html": [
       "<div>\n",
       "<style scoped>\n",
       "    .dataframe tbody tr th:only-of-type {\n",
       "        vertical-align: middle;\n",
       "    }\n",
       "\n",
       "    .dataframe tbody tr th {\n",
       "        vertical-align: top;\n",
       "    }\n",
       "\n",
       "    .dataframe thead th {\n",
       "        text-align: right;\n",
       "    }\n",
       "</style>\n",
       "<table border=\"1\" class=\"dataframe\">\n",
       "  <thead>\n",
       "    <tr style=\"text-align: right;\">\n",
       "      <th></th>\n",
       "      <th>blood_pressure</th>\n",
       "    </tr>\n",
       "  </thead>\n",
       "  <tbody>\n",
       "    <tr>\n",
       "      <th>200</th>\n",
       "      <td>112.047931</td>\n",
       "    </tr>\n",
       "    <tr>\n",
       "      <th>201</th>\n",
       "      <td>117.970208</td>\n",
       "    </tr>\n",
       "    <tr>\n",
       "      <th>202</th>\n",
       "      <td>133.632701</td>\n",
       "    </tr>\n",
       "    <tr>\n",
       "      <th>203</th>\n",
       "      <td>101.544808</td>\n",
       "    </tr>\n",
       "    <tr>\n",
       "      <th>204</th>\n",
       "      <td>121.880076</td>\n",
       "    </tr>\n",
       "  </tbody>\n",
       "</table>\n",
       "</div>"
      ],
      "text/plain": [
       "     blood_pressure\n",
       "200      112.047931\n",
       "201      117.970208\n",
       "202      133.632701\n",
       "203      101.544808\n",
       "204      121.880076"
      ]
     },
     "execution_count": 41,
     "metadata": {},
     "output_type": "execute_result"
    }
   ],
   "source": [
    "df2.head()"
   ]
  },
  {
   "cell_type": "code",
   "execution_count": 53,
   "id": "af9d5301",
   "metadata": {},
   "outputs": [
    {
     "data": {
      "text/html": [
       "<div>\n",
       "<style scoped>\n",
       "    .dataframe tbody tr th:only-of-type {\n",
       "        vertical-align: middle;\n",
       "    }\n",
       "\n",
       "    .dataframe tbody tr th {\n",
       "        vertical-align: top;\n",
       "    }\n",
       "\n",
       "    .dataframe thead th {\n",
       "        text-align: right;\n",
       "    }\n",
       "</style>\n",
       "<table border=\"1\" class=\"dataframe\">\n",
       "  <thead>\n",
       "    <tr style=\"text-align: right;\">\n",
       "      <th></th>\n",
       "      <th>count</th>\n",
       "      <th>mean</th>\n",
       "      <th>std</th>\n",
       "      <th>min</th>\n",
       "      <th>25%</th>\n",
       "      <th>50%</th>\n",
       "      <th>75%</th>\n",
       "      <th>max</th>\n",
       "    </tr>\n",
       "  </thead>\n",
       "  <tbody>\n",
       "    <tr>\n",
       "      <th>blood_pressure</th>\n",
       "      <td>200.0</td>\n",
       "      <td>110.147865</td>\n",
       "      <td>11.377692</td>\n",
       "      <td>79.919855</td>\n",
       "      <td>102.625807</td>\n",
       "      <td>109.404953</td>\n",
       "      <td>117.723177</td>\n",
       "      <td>144.026969</td>\n",
       "    </tr>\n",
       "  </tbody>\n",
       "</table>\n",
       "</div>"
      ],
      "text/plain": [
       "                count        mean        std        min         25%  \\\n",
       "blood_pressure  200.0  110.147865  11.377692  79.919855  102.625807   \n",
       "\n",
       "                       50%         75%         max  \n",
       "blood_pressure  109.404953  117.723177  144.026969  "
      ]
     },
     "execution_count": 53,
     "metadata": {},
     "output_type": "execute_result"
    }
   ],
   "source": [
    "df2.describe().transpose()"
   ]
  },
  {
   "cell_type": "markdown",
   "id": "918e5a3f",
   "metadata": {},
   "source": [
    "### Step 4: Conduct the Independent-sample t-test\n",
    "* Carryout levene's test for homogeneity of variance.\n",
    "* Use the ttest_ind function from the scipy.stats module to perform the independent-sample t-test. \n",
    "* Pass the group_1 and group_2 variables as arguments."
   ]
  },
  {
   "cell_type": "markdown",
   "id": "3fe02dd2",
   "metadata": {},
   "source": [
    "#### Levene's Test:\n",
    "\n",
    "* Levene's test is a statistical test that examines the equality of variances between groups.\n",
    "* It tests the null hypothesis that the variances are equal.\n",
    "* You can use the levene() function from the scipy.stats module to perform Levene's test."
   ]
  },
  {
   "cell_type": "code",
   "execution_count": 46,
   "id": "183528d8",
   "metadata": {},
   "outputs": [],
   "source": [
    "from scipy.stats import levene"
   ]
  },
  {
   "cell_type": "code",
   "execution_count": 47,
   "id": "f98c6c14",
   "metadata": {},
   "outputs": [
    {
     "name": "stdout",
     "output_type": "stream",
     "text": [
      "The variances are significantly different. Use Welch's t-test or another appropriate variant.\n"
     ]
    }
   ],
   "source": [
    "# Perform Levene's test\n",
    "t_stat, p_val = levene(group_1, group_2)\n",
    "\n",
    "alpha = 0.05\n",
    "\n",
    "if p_val < alpha:\n",
    "    print(\"The variances are significantly different. Use Welch's t-test or another appropriate variant.\")\n",
    "else:\n",
    "    print(\"The variances are not significantly different. You can consider using the pooled t-test if other assumptions are met.\")"
   ]
  },
  {
   "cell_type": "code",
   "execution_count": 48,
   "id": "d24837d8",
   "metadata": {},
   "outputs": [],
   "source": [
    "# Perform the independent sample t-test assuming unequal variance\n",
    "t_statistic, p_value = ttest_ind(group_1, group_2,equal_var=False)"
   ]
  },
  {
   "cell_type": "code",
   "execution_count": 49,
   "id": "56533cb9",
   "metadata": {},
   "outputs": [
    {
     "name": "stdout",
     "output_type": "stream",
     "text": [
      "t_statistic: -9.395207080912995\n",
      "p_value: 5.03969621392083e-19\n"
     ]
    }
   ],
   "source": [
    "print(f\"t_statistic: {t_statistic}\")\n",
    "print(f\"p_value: {p_value}\")"
   ]
  },
  {
   "cell_type": "markdown",
   "id": "3d87a9f2",
   "metadata": {},
   "source": [
    "### Step 5: Interpret the results and make conclusions\n",
    "* Compare the obtained p-value with a predetermined significance level (α) to determine if the results are statistically significant. \n",
    "* You can print the results and provide a conclusion based on the outcome of the test."
   ]
  },
  {
   "cell_type": "code",
   "execution_count": 50,
   "id": "b4441bbd",
   "metadata": {},
   "outputs": [
    {
     "name": "stdout",
     "output_type": "stream",
     "text": [
      "Reject the null hypothesis. There is a significant difference between the blood_pressure of group 1 and group 2.\n"
     ]
    }
   ],
   "source": [
    "alpha = 0.05\n",
    "\n",
    "if p_value < alpha:\n",
    "    print(\"Reject the null hypothesis. There is a significant difference between the blood_pressure of group 1 and group 2.\")\n",
    "else:\n",
    "    print(\"Fail to reject the null hypothesis. There is no significant difference between the blood_pressure of group 1 and group 2.\")"
   ]
  },
  {
   "cell_type": "code",
   "execution_count": null,
   "id": "f930e433",
   "metadata": {},
   "outputs": [],
   "source": []
  }
 ],
 "metadata": {
  "kernelspec": {
   "display_name": "Python 3 (ipykernel)",
   "language": "python",
   "name": "python3"
  },
  "language_info": {
   "codemirror_mode": {
    "name": "ipython",
    "version": 3
   },
   "file_extension": ".py",
   "mimetype": "text/x-python",
   "name": "python",
   "nbconvert_exporter": "python",
   "pygments_lexer": "ipython3",
   "version": "3.11.7"
  }
 },
 "nbformat": 4,
 "nbformat_minor": 5
}
