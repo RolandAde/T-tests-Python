{
 "cells": [
  {
   "cell_type": "markdown",
   "id": "c898c822",
   "metadata": {},
   "source": [
    "## Here is an outline of the steps we'll cover:\n",
    "\n",
    "* Importing the necessary libraries\n",
    "* Loading the dataset\n",
    "* Data preprocessing (if needed)\n",
    "* Formulating the null and alternative hypotheses\n",
    "* Choosing the appropriate t-test based on the study design\n",
    "* Conducting the t-test\n",
    "* Interpreting the results and making conclusions"
   ]
  },
  {
   "cell_type": "markdown",
   "id": "d4aebc69",
   "metadata": {},
   "source": [
    "Let's perform a one-sample t-test analysis on the dataset containing the height of people. We will test the height against a hypothetical population mean.\n",
    "\n"
   ]
  },
  {
   "cell_type": "markdown",
   "id": "52321b90",
   "metadata": {},
   "source": [
    "### Here's the code with explanations for each analytical step"
   ]
  },
  {
   "cell_type": "markdown",
   "id": "81a22ee8",
   "metadata": {},
   "source": [
    "### Step 1: Import the necessary libraries\n",
    "* We'll import the required libraries, including numpy, pandas, and scipy.stats.\n"
   ]
  },
  {
   "cell_type": "code",
   "execution_count": 2,
   "id": "8705f83d",
   "metadata": {},
   "outputs": [],
   "source": [
    "import numpy as np\n",
    "import pandas as pd\n",
    "from scipy.stats import ttest_1samp"
   ]
  },
  {
   "cell_type": "code",
   "execution_count": 3,
   "id": "33e6b684",
   "metadata": {},
   "outputs": [],
   "source": [
    "import os"
   ]
  },
  {
   "cell_type": "code",
   "execution_count": 4,
   "id": "0658f35d",
   "metadata": {},
   "outputs": [],
   "source": [
    "# Changing working directory\n",
    "os.chdir(\"C:\\\\Users\\\\HP\\\\Desktop\\\\JITSOLUTIONS\\\\Datasets\")"
   ]
  },
  {
   "cell_type": "code",
   "execution_count": 5,
   "id": "a5acf61b",
   "metadata": {},
   "outputs": [
    {
     "data": {
      "text/plain": [
       "'C:\\\\Users\\\\HP\\\\Desktop\\\\JITSOLUTIONS\\\\Datasets'"
      ]
     },
     "execution_count": 5,
     "metadata": {},
     "output_type": "execute_result"
    }
   ],
   "source": [
    "# Getting working directory\n",
    "pwd"
   ]
  },
  {
   "cell_type": "markdown",
   "id": "42d61149",
   "metadata": {},
   "source": [
    "_________________________________________"
   ]
  },
  {
   "cell_type": "markdown",
   "id": "f8cb6929",
   "metadata": {},
   "source": [
    "### Step 2: Load the dataset\n",
    "* Assuming your dataset is in a CSV file format, you can load it into a Pandas DataFrame using the read_csv() function.\n",
    "* Assuming your dataset is in a xlsx file format, you can load it into a Pandas DataFrame using the read_excel() function."
   ]
  },
  {
   "cell_type": "code",
   "execution_count": 10,
   "id": "c1597a51",
   "metadata": {},
   "outputs": [],
   "source": [
    "# Importing dataset\n",
    "df = pd.read_excel(\"Manufacture1.xlsx\")"
   ]
  },
  {
   "cell_type": "code",
   "execution_count": 11,
   "id": "1be32406",
   "metadata": {},
   "outputs": [
    {
     "data": {
      "text/html": [
       "<div>\n",
       "<style scoped>\n",
       "    .dataframe tbody tr th:only-of-type {\n",
       "        vertical-align: middle;\n",
       "    }\n",
       "\n",
       "    .dataframe tbody tr th {\n",
       "        vertical-align: top;\n",
       "    }\n",
       "\n",
       "    .dataframe thead th {\n",
       "        text-align: right;\n",
       "    }\n",
       "</style>\n",
       "<table border=\"1\" class=\"dataframe\">\n",
       "  <thead>\n",
       "    <tr style=\"text-align: right;\">\n",
       "      <th></th>\n",
       "      <th>Weight</th>\n",
       "    </tr>\n",
       "  </thead>\n",
       "  <tbody>\n",
       "    <tr>\n",
       "      <th>0</th>\n",
       "      <td>522.886285</td>\n",
       "    </tr>\n",
       "    <tr>\n",
       "      <th>1</th>\n",
       "      <td>509.365099</td>\n",
       "    </tr>\n",
       "    <tr>\n",
       "      <th>2</th>\n",
       "      <td>505.964975</td>\n",
       "    </tr>\n",
       "    <tr>\n",
       "      <th>3</th>\n",
       "      <td>486.365073</td>\n",
       "    </tr>\n",
       "    <tr>\n",
       "      <th>4</th>\n",
       "      <td>502.226118</td>\n",
       "    </tr>\n",
       "  </tbody>\n",
       "</table>\n",
       "</div>"
      ],
      "text/plain": [
       "       Weight\n",
       "0  522.886285\n",
       "1  509.365099\n",
       "2  505.964975\n",
       "3  486.365073\n",
       "4  502.226118"
      ]
     },
     "execution_count": 11,
     "metadata": {},
     "output_type": "execute_result"
    }
   ],
   "source": [
    "df.head()"
   ]
  },
  {
   "cell_type": "markdown",
   "id": "fcc32bd2",
   "metadata": {},
   "source": [
    "________________________________________________________"
   ]
  },
  {
   "cell_type": "markdown",
   "id": "dd81b96d",
   "metadata": {},
   "source": [
    "### Step 3: Formulating the null and alternative hypotheses\n",
    "* Define the null hypothesis (H0) and alternative hypothesis (H1) based on your research question. \n",
    "* These hypotheses should be specific to your analysis."
   ]
  },
  {
   "cell_type": "markdown",
   "id": "b92d24aa",
   "metadata": {},
   "source": [
    "In a one-sample t-test, the null hypothesis (H0) states that the sample mean is equal to a specified population mean. The alternative hypothesis (H1) states that the sample mean is different from the specified population mean. You can define these hypotheses based on your research question and the population mean you want to test against."
   ]
  },
  {
   "cell_type": "code",
   "execution_count": 16,
   "id": "a769d06b",
   "metadata": {},
   "outputs": [],
   "source": [
    "# Example hypotheses\n",
    "population_mean = 500  # Specify the population mean you want to test against\n",
    "# H0: The mean height of the population is equal to the specified population mean (500).\n",
    "# H1: The mean height of the population is different from the specified population mean (500).\n"
   ]
  },
  {
   "cell_type": "markdown",
   "id": "617e5fb6",
   "metadata": {},
   "source": [
    "### Step 4: Conduct the one-sample t-test\n",
    "* Use the ttest_1samp function from the scipy.stats module to perform the one-sample t-test. \n",
    "* Pass the weight data and the specified population mean to the function. It will return the test statistic (t-value) and the p-value."
   ]
  },
  {
   "cell_type": "code",
   "execution_count": 18,
   "id": "b6851e09",
   "metadata": {},
   "outputs": [],
   "source": [
    "t_statistic, p_value = ttest_1samp(df['Weight'], population_mean)"
   ]
  },
  {
   "cell_type": "code",
   "execution_count": 25,
   "id": "bbfb8c3b",
   "metadata": {},
   "outputs": [
    {
     "name": "stdout",
     "output_type": "stream",
     "text": [
      "t_statistic: 232.7997950006892\n",
      "p_value: 2.970680971238457e-76\n"
     ]
    }
   ],
   "source": [
    "print(f\"t_statistic: {t_statistic}\")\n",
    "print(f\"p_value: {p_value}\")"
   ]
  },
  {
   "cell_type": "markdown",
   "id": "19d0a666",
   "metadata": {},
   "source": [
    "### Step 5: Interpret the results and make conclusions\n",
    "* Compare the obtained p-value with a predetermined significance level (α) to determine if the results are statistically significant. \n",
    "* You can print the results and provide a conclusion based on the outcome of the test."
   ]
  },
  {
   "cell_type": "code",
   "execution_count": 24,
   "id": "ba616ba7",
   "metadata": {},
   "outputs": [
    {
     "name": "stdout",
     "output_type": "stream",
     "text": [
      "Reject the null hypothesis. The mean height is significantly different from the specified population mean.\n"
     ]
    }
   ],
   "source": [
    "alpha = 0.05  # Set the significance level\n",
    "if p_value < alpha:\n",
    "    print(\"Reject the null hypothesis. The mean height is significantly different from the specified population mean.\")\n",
    "else:\n",
    "    print(\"Fail to reject the null hypothesis. The mean height is not significantly different from the specified population mean.\")"
   ]
  },
  {
   "cell_type": "code",
   "execution_count": null,
   "id": "230d227c",
   "metadata": {},
   "outputs": [],
   "source": []
  }
 ],
 "metadata": {
  "kernelspec": {
   "display_name": "Python 3 (ipykernel)",
   "language": "python",
   "name": "python3"
  },
  "language_info": {
   "codemirror_mode": {
    "name": "ipython",
    "version": 3
   },
   "file_extension": ".py",
   "mimetype": "text/x-python",
   "name": "python",
   "nbconvert_exporter": "python",
   "pygments_lexer": "ipython3",
   "version": "3.11.7"
  }
 },
 "nbformat": 4,
 "nbformat_minor": 5
}
