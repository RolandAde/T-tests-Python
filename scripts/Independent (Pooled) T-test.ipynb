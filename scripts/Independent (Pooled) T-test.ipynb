{
 "cells": [
  {
   "cell_type": "markdown",
   "id": "a11b9ef9",
   "metadata": {},
   "source": [
    "# Pooled Test\n",
    "\n",
    "## Independent samples t-test that assumes equal variances)"
   ]
  },
  {
   "cell_type": "markdown",
   "id": "9310010c",
   "metadata": {},
   "source": [
    "### Here's a brief note on the Independent Samples T-test:\n",
    "\n",
    "The Independent Samples T-test is a statistical analysis used to determine if there is a significant difference between the means of two independent groups. It's particularly useful when you want to compare the means of two groups to assess whether the observed differences are statistically significant or simply due to random chance.\n",
    "\n",
    "### Key Points about the Independent Samples T-test:\n",
    "**Comparison of Group Means:** The primary purpose of the independent samples t-test is to evaluate whether the means of two groups are significantly different from each other.\n",
    "\n",
    "**Assumption of Independence:** This test assumes that the observations within each group are independent of each other. In other words, the data points in one group are not related or dependent on the data points in the other group.\n",
    "\n",
    "**Equal Variance or Not:** The test can be performed with the assumption of equal variances between the two groups (pooled t-test) or without this assumption (Welch's t-test). Equal variances can be tested using statistical tests or visual inspection of data.\n",
    "\n",
    "**Interpretation:** The test results yield a p-value, which indicates the probability of observing the observed difference (or a more extreme difference) if the means of the two groups were actually equal. If the p-value is below a chosen significance level (e.g., 0.05), it suggests that the difference is statistically significant, and you may reject the null hypothesis.\n",
    "\n",
    "**Degrees of Freedom:** The degrees of freedom used in the t-test formula depend on the sample sizes and the assumptions made about equal variances.\n",
    "\n",
    "**Use Cases:** The independent samples t-test is commonly used in various fields, such as psychology, biology, economics, and more. For example, it can be used to compare the effectiveness of different medications, the performance of students under different teaching methods, or the productivity of employees under different conditions.\n",
    "\n",
    "In conclusion, the independent samples t-test is a valuable tool for determining if there is a significant difference between the means of two independent groups. It allows researchers to make data-driven decisions based on the statistical evidence and plays a crucial role in hypothesis testing and making informed conclusions."
   ]
  },
  {
   "cell_type": "markdown",
   "id": "e035bcc9",
   "metadata": {},
   "source": [
    "## Here is an outline of the steps we'll cover:\n",
    "\n",
    "* Importing the necessary libraries\n",
    "* Loading the dataset\n",
    "* Data preprocessing (if needed)\n",
    "* Formulating the null and alternative hypotheses\n",
    "* Choosing the appropriate t-test based on the study design\n",
    "* Conducting the t-test\n",
    "* Interpreting the results and making conclusions"
   ]
  },
  {
   "cell_type": "markdown",
   "id": "fb581ff6",
   "metadata": {},
   "source": [
    "Let's perform a welch-test using the dataset \"bloodg\"."
   ]
  },
  {
   "cell_type": "markdown",
   "id": "00ff7e41",
   "metadata": {},
   "source": [
    "### Here's the code with explanations for each analytical step"
   ]
  },
  {
   "cell_type": "markdown",
   "id": "7cb2fc15",
   "metadata": {},
   "source": [
    "### Step 1: Import the necessary libraries\n",
    "* We'll import the required libraries, including numpy, pandas, and scipy.stats."
   ]
  },
  {
   "cell_type": "code",
   "execution_count": 1,
   "id": "ccb730e3",
   "metadata": {},
   "outputs": [],
   "source": [
    "import numpy as np\n",
    "import pandas as pd\n",
    "from scipy.stats import ttest_ind\n",
    "import os"
   ]
  },
  {
   "cell_type": "code",
   "execution_count": 2,
   "id": "22b1750a",
   "metadata": {},
   "outputs": [],
   "source": [
    "# Changing working directory\n",
    "os.chdir(\"C:\\\\Users\\\\HP\\\\Desktop\\\\JITSOLUTIONS\\\\Datasets0\")"
   ]
  },
  {
   "cell_type": "code",
   "execution_count": 3,
   "id": "3b62f139",
   "metadata": {},
   "outputs": [
    {
     "data": {
      "text/plain": [
       "'C:\\\\Users\\\\HP\\\\Desktop\\\\JITSOLUTIONS\\\\Datasets0'"
      ]
     },
     "execution_count": 3,
     "metadata": {},
     "output_type": "execute_result"
    }
   ],
   "source": [
    "pwd"
   ]
  },
  {
   "cell_type": "markdown",
   "id": "4903cc41",
   "metadata": {},
   "source": [
    "________________"
   ]
  },
  {
   "cell_type": "markdown",
   "id": "e8dc23aa",
   "metadata": {},
   "source": [
    "### Step 2: Load the dataset\n",
    "* Assuming your dataset is in a CSV file format, you can load it into a Pandas DataFrame using the read_csv() function.\n",
    "* Assuming your dataset is in a xlsx file format, you can load it into a Pandas DataFrame using the read_excel() function."
   ]
  },
  {
   "cell_type": "code",
   "execution_count": 6,
   "id": "87224201",
   "metadata": {},
   "outputs": [],
   "source": [
    "# Importing dataset\n",
    "df = pd.read_excel(\"score.xlsx\")"
   ]
  },
  {
   "cell_type": "code",
   "execution_count": 7,
   "id": "50a8e77c",
   "metadata": {},
   "outputs": [
    {
     "data": {
      "text/html": [
       "<div>\n",
       "<style scoped>\n",
       "    .dataframe tbody tr th:only-of-type {\n",
       "        vertical-align: middle;\n",
       "    }\n",
       "\n",
       "    .dataframe tbody tr th {\n",
       "        vertical-align: top;\n",
       "    }\n",
       "\n",
       "    .dataframe thead th {\n",
       "        text-align: right;\n",
       "    }\n",
       "</style>\n",
       "<table border=\"1\" class=\"dataframe\">\n",
       "  <thead>\n",
       "    <tr style=\"text-align: right;\">\n",
       "      <th></th>\n",
       "      <th>group</th>\n",
       "      <th>score</th>\n",
       "    </tr>\n",
       "  </thead>\n",
       "  <tbody>\n",
       "    <tr>\n",
       "      <th>0</th>\n",
       "      <td>new</td>\n",
       "      <td>12.36</td>\n",
       "    </tr>\n",
       "    <tr>\n",
       "      <th>1</th>\n",
       "      <td>new</td>\n",
       "      <td>4.05</td>\n",
       "    </tr>\n",
       "    <tr>\n",
       "      <th>2</th>\n",
       "      <td>new</td>\n",
       "      <td>17.16</td>\n",
       "    </tr>\n",
       "    <tr>\n",
       "      <th>3</th>\n",
       "      <td>new</td>\n",
       "      <td>8.44</td>\n",
       "    </tr>\n",
       "    <tr>\n",
       "      <th>4</th>\n",
       "      <td>new</td>\n",
       "      <td>6.40</td>\n",
       "    </tr>\n",
       "  </tbody>\n",
       "</table>\n",
       "</div>"
      ],
      "text/plain": [
       "  group  score\n",
       "0   new  12.36\n",
       "1   new   4.05\n",
       "2   new  17.16\n",
       "3   new   8.44\n",
       "4   new   6.40"
      ]
     },
     "execution_count": 7,
     "metadata": {},
     "output_type": "execute_result"
    }
   ],
   "source": [
    "df.head()"
   ]
  },
  {
   "cell_type": "markdown",
   "id": "b5e400e4",
   "metadata": {},
   "source": [
    "### Step 3: Formulating the null and alternative hypotheses\n",
    "Define the null hypothesis (H0) and alternative hypothesis (H1) based on your research question. These hypotheses should be specific to your analysis."
   ]
  },
  {
   "cell_type": "code",
   "execution_count": 8,
   "id": "6818a985",
   "metadata": {},
   "outputs": [],
   "source": [
    "# Example hypotheses\n",
    "# H0: There is no significant difference between the new teaching method and traditional teaching method.\n",
    "# H1: There is significant difference between the new teaching method and traditional teaching method."
   ]
  },
  {
   "cell_type": "code",
   "execution_count": 15,
   "id": "ff7de475",
   "metadata": {},
   "outputs": [],
   "source": [
    "# Extract the columns for the paired samples\n",
    "group_1 = df[df['group'] == \"new\"]['score']\n",
    "group_2 = df[df['group'] == \"Trad\"]['score']"
   ]
  },
  {
   "cell_type": "code",
   "execution_count": 16,
   "id": "a2a97a53",
   "metadata": {},
   "outputs": [],
   "source": [
    "df1=pd.DataFrame(group_1)"
   ]
  },
  {
   "cell_type": "code",
   "execution_count": 17,
   "id": "7bcdbf67",
   "metadata": {},
   "outputs": [],
   "source": [
    "df2=pd.DataFrame(group_2)"
   ]
  },
  {
   "cell_type": "code",
   "execution_count": 18,
   "id": "981e754d",
   "metadata": {},
   "outputs": [
    {
     "data": {
      "text/html": [
       "<div>\n",
       "<style scoped>\n",
       "    .dataframe tbody tr th:only-of-type {\n",
       "        vertical-align: middle;\n",
       "    }\n",
       "\n",
       "    .dataframe tbody tr th {\n",
       "        vertical-align: top;\n",
       "    }\n",
       "\n",
       "    .dataframe thead th {\n",
       "        text-align: right;\n",
       "    }\n",
       "</style>\n",
       "<table border=\"1\" class=\"dataframe\">\n",
       "  <thead>\n",
       "    <tr style=\"text-align: right;\">\n",
       "      <th></th>\n",
       "      <th>score</th>\n",
       "    </tr>\n",
       "  </thead>\n",
       "  <tbody>\n",
       "    <tr>\n",
       "      <th>0</th>\n",
       "      <td>12.36</td>\n",
       "    </tr>\n",
       "    <tr>\n",
       "      <th>1</th>\n",
       "      <td>4.05</td>\n",
       "    </tr>\n",
       "    <tr>\n",
       "      <th>2</th>\n",
       "      <td>17.16</td>\n",
       "    </tr>\n",
       "    <tr>\n",
       "      <th>3</th>\n",
       "      <td>8.44</td>\n",
       "    </tr>\n",
       "    <tr>\n",
       "      <th>4</th>\n",
       "      <td>6.40</td>\n",
       "    </tr>\n",
       "  </tbody>\n",
       "</table>\n",
       "</div>"
      ],
      "text/plain": [
       "   score\n",
       "0  12.36\n",
       "1   4.05\n",
       "2  17.16\n",
       "3   8.44\n",
       "4   6.40"
      ]
     },
     "execution_count": 18,
     "metadata": {},
     "output_type": "execute_result"
    }
   ],
   "source": [
    "df1.head()"
   ]
  },
  {
   "cell_type": "code",
   "execution_count": 33,
   "id": "cee4d5a9",
   "metadata": {},
   "outputs": [
    {
     "data": {
      "text/html": [
       "<div>\n",
       "<style scoped>\n",
       "    .dataframe tbody tr th:only-of-type {\n",
       "        vertical-align: middle;\n",
       "    }\n",
       "\n",
       "    .dataframe tbody tr th {\n",
       "        vertical-align: top;\n",
       "    }\n",
       "\n",
       "    .dataframe thead th {\n",
       "        text-align: right;\n",
       "    }\n",
       "</style>\n",
       "<table border=\"1\" class=\"dataframe\">\n",
       "  <thead>\n",
       "    <tr style=\"text-align: right;\">\n",
       "      <th></th>\n",
       "      <th>count</th>\n",
       "      <th>mean</th>\n",
       "      <th>std</th>\n",
       "      <th>min</th>\n",
       "      <th>25%</th>\n",
       "      <th>50%</th>\n",
       "      <th>75%</th>\n",
       "      <th>max</th>\n",
       "    </tr>\n",
       "  </thead>\n",
       "  <tbody>\n",
       "    <tr>\n",
       "      <th>score</th>\n",
       "      <td>30.0</td>\n",
       "      <td>10.042</td>\n",
       "      <td>5.149079</td>\n",
       "      <td>-1.21</td>\n",
       "      <td>7.0275</td>\n",
       "      <td>10.525</td>\n",
       "      <td>14.405</td>\n",
       "      <td>17.16</td>\n",
       "    </tr>\n",
       "  </tbody>\n",
       "</table>\n",
       "</div>"
      ],
      "text/plain": [
       "       count    mean       std   min     25%     50%     75%    max\n",
       "score   30.0  10.042  5.149079 -1.21  7.0275  10.525  14.405  17.16"
      ]
     },
     "execution_count": 33,
     "metadata": {},
     "output_type": "execute_result"
    }
   ],
   "source": [
    "df1.describe().transpose()"
   ]
  },
  {
   "cell_type": "code",
   "execution_count": 19,
   "id": "5634b7bf",
   "metadata": {},
   "outputs": [
    {
     "data": {
      "text/html": [
       "<div>\n",
       "<style scoped>\n",
       "    .dataframe tbody tr th:only-of-type {\n",
       "        vertical-align: middle;\n",
       "    }\n",
       "\n",
       "    .dataframe tbody tr th {\n",
       "        vertical-align: top;\n",
       "    }\n",
       "\n",
       "    .dataframe thead th {\n",
       "        text-align: right;\n",
       "    }\n",
       "</style>\n",
       "<table border=\"1\" class=\"dataframe\">\n",
       "  <thead>\n",
       "    <tr style=\"text-align: right;\">\n",
       "      <th></th>\n",
       "      <th>score</th>\n",
       "    </tr>\n",
       "  </thead>\n",
       "  <tbody>\n",
       "    <tr>\n",
       "      <th>30</th>\n",
       "      <td>13.01</td>\n",
       "    </tr>\n",
       "    <tr>\n",
       "      <th>31</th>\n",
       "      <td>16.69</td>\n",
       "    </tr>\n",
       "    <tr>\n",
       "      <th>32</th>\n",
       "      <td>20.24</td>\n",
       "    </tr>\n",
       "    <tr>\n",
       "      <th>33</th>\n",
       "      <td>20.23</td>\n",
       "    </tr>\n",
       "    <tr>\n",
       "      <th>34</th>\n",
       "      <td>19.32</td>\n",
       "    </tr>\n",
       "  </tbody>\n",
       "</table>\n",
       "</div>"
      ],
      "text/plain": [
       "    score\n",
       "30  13.01\n",
       "31  16.69\n",
       "32  20.24\n",
       "33  20.23\n",
       "34  19.32"
      ]
     },
     "execution_count": 19,
     "metadata": {},
     "output_type": "execute_result"
    }
   ],
   "source": [
    "df2.head()"
   ]
  },
  {
   "cell_type": "code",
   "execution_count": 31,
   "id": "92aa160a",
   "metadata": {},
   "outputs": [
    {
     "data": {
      "text/html": [
       "<div>\n",
       "<style scoped>\n",
       "    .dataframe tbody tr th:only-of-type {\n",
       "        vertical-align: middle;\n",
       "    }\n",
       "\n",
       "    .dataframe tbody tr th {\n",
       "        vertical-align: top;\n",
       "    }\n",
       "\n",
       "    .dataframe thead th {\n",
       "        text-align: right;\n",
       "    }\n",
       "</style>\n",
       "<table border=\"1\" class=\"dataframe\">\n",
       "  <thead>\n",
       "    <tr style=\"text-align: right;\">\n",
       "      <th></th>\n",
       "      <th>count</th>\n",
       "      <th>mean</th>\n",
       "      <th>std</th>\n",
       "      <th>min</th>\n",
       "      <th>25%</th>\n",
       "      <th>50%</th>\n",
       "      <th>75%</th>\n",
       "      <th>max</th>\n",
       "    </tr>\n",
       "  </thead>\n",
       "  <tbody>\n",
       "    <tr>\n",
       "      <th>score</th>\n",
       "      <td>30.0</td>\n",
       "      <td>15.519667</td>\n",
       "      <td>4.50191</td>\n",
       "      <td>4.63</td>\n",
       "      <td>13.6125</td>\n",
       "      <td>15.28</td>\n",
       "      <td>18.5425</td>\n",
       "      <td>26.95</td>\n",
       "    </tr>\n",
       "  </tbody>\n",
       "</table>\n",
       "</div>"
      ],
      "text/plain": [
       "       count       mean      std   min      25%    50%      75%    max\n",
       "score   30.0  15.519667  4.50191  4.63  13.6125  15.28  18.5425  26.95"
      ]
     },
     "execution_count": 31,
     "metadata": {},
     "output_type": "execute_result"
    }
   ],
   "source": [
    "df2.describe().transpose()"
   ]
  },
  {
   "cell_type": "markdown",
   "id": "918e5a3f",
   "metadata": {},
   "source": [
    "### Step 4: Conduct the Independent-sample t-test\n",
    "* Carryout levene's test for homogeneity of variance.\n",
    "* Use the ttest_ind function from the scipy.stats module to perform the independent-sample t-test. \n",
    "* Pass the group_1 and group_2 variables as arguments."
   ]
  },
  {
   "cell_type": "markdown",
   "id": "1b7d4405",
   "metadata": {},
   "source": [
    "#### Levene's Test:\n",
    "\n",
    "* Levene's test is a statistical test that examines the equality of variances between groups.\n",
    "* It tests the null hypothesis that the variances are equal.\n",
    "* You can use the levene() function from the scipy.stats module to perform Levene's test."
   ]
  },
  {
   "cell_type": "code",
   "execution_count": 20,
   "id": "ecf4fd57",
   "metadata": {},
   "outputs": [],
   "source": [
    "from scipy.stats import levene"
   ]
  },
  {
   "cell_type": "code",
   "execution_count": 21,
   "id": "d6b1e7d6",
   "metadata": {},
   "outputs": [
    {
     "name": "stdout",
     "output_type": "stream",
     "text": [
      "The variances are not significantly different. You can consider using the pooled t-test if other assumptions are met.\n"
     ]
    }
   ],
   "source": [
    "# Perform Levene's test\n",
    "t_stat, p_val = levene(group_1, group_2)\n",
    "\n",
    "alpha = 0.05\n",
    "\n",
    "if p_val < alpha:\n",
    "    print(\"The variances are significantly different. Use Welch's t-test or another appropriate variant.\")\n",
    "else:\n",
    "    print(\"The variances are not significantly different. You can consider using the pooled t-test if other assumptions are met.\")"
   ]
  },
  {
   "cell_type": "code",
   "execution_count": 26,
   "id": "d24837d8",
   "metadata": {},
   "outputs": [],
   "source": [
    "# Perform the independent sample t-test assuming unequal variance\n",
    "t_statistic, p_value = ttest_ind(group_1, group_2,equal_var=True)"
   ]
  },
  {
   "cell_type": "code",
   "execution_count": 27,
   "id": "56533cb9",
   "metadata": {},
   "outputs": [
    {
     "name": "stdout",
     "output_type": "stream",
     "text": [
      "t_statistic: -4.386571316895365\n",
      "p_value: 4.9222692613951805e-05\n"
     ]
    }
   ],
   "source": [
    "print(f\"t_statistic: {t_statistic}\")\n",
    "print(f\"p_value: {p_value}\")"
   ]
  },
  {
   "cell_type": "markdown",
   "id": "3d87a9f2",
   "metadata": {},
   "source": [
    "### Step 5: Interpret the results and make conclusions\n",
    "* Compare the obtained p-value with a predetermined significance level (α) to determine if the results are statistically significant. \n",
    "* You can print the results and provide a conclusion based on the outcome of the test."
   ]
  },
  {
   "cell_type": "code",
   "execution_count": 29,
   "id": "b4441bbd",
   "metadata": {},
   "outputs": [
    {
     "name": "stdout",
     "output_type": "stream",
     "text": [
      "Reject the null hypothesis. There is significant difference between the new teaching method and traditional teaching method.\n"
     ]
    }
   ],
   "source": [
    "alpha = 0.05\n",
    "\n",
    "if p_value < alpha:\n",
    "    print(\"Reject the null hypothesis. There is significant difference between the new teaching method and traditional teaching method.\")\n",
    "else:\n",
    "    print(\"Fail to reject the null hypothesis. There is no significant difference between the new teaching method and traditional teaching method.\")"
   ]
  },
  {
   "cell_type": "code",
   "execution_count": null,
   "id": "15b20237",
   "metadata": {},
   "outputs": [],
   "source": []
  }
 ],
 "metadata": {
  "kernelspec": {
   "display_name": "Python 3 (ipykernel)",
   "language": "python",
   "name": "python3"
  },
  "language_info": {
   "codemirror_mode": {
    "name": "ipython",
    "version": 3
   },
   "file_extension": ".py",
   "mimetype": "text/x-python",
   "name": "python",
   "nbconvert_exporter": "python",
   "pygments_lexer": "ipython3",
   "version": "3.11.7"
  }
 },
 "nbformat": 4,
 "nbformat_minor": 5
}
